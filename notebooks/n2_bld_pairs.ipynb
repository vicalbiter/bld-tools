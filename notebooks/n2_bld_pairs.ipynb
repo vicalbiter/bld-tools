{
 "cells": [
  {
   "cell_type": "code",
   "execution_count": 2,
   "metadata": {},
   "outputs": [
    {
     "name": "stdout",
     "output_type": "stream",
     "text": [
      "The autoreload extension is already loaded. To reload it, use:\n",
      "  %reload_ext autoreload\n"
     ]
    }
   ],
   "source": [
    "%load_ext autoreload\n",
    "%autoreload 2\n",
    "\n",
    "import os\n",
    "import sys\n",
    "\n",
    "sys.path.append(os.path.join(os.getcwd()[:os.getcwd().find('notebooks')]))"
   ]
  },
  {
   "cell_type": "code",
   "execution_count": 3,
   "metadata": {},
   "outputs": [],
   "source": [
    "import string\n",
    "import numpy as np\n",
    "import pandas as pd\n",
    "from collections import defaultdict\n",
    "\n",
    "from config import cfg\n",
    "\n",
    "base_path = os.path.join(os.getcwd()[:os.getcwd().find('notebooks')])"
   ]
  },
  {
   "cell_type": "markdown",
   "metadata": {},
   "source": [
    "### Pairs"
   ]
  },
  {
   "cell_type": "code",
   "execution_count": 96,
   "metadata": {},
   "outputs": [],
   "source": [
    "pairs = pd.read_excel(os.path.join(cfg[\"docs_path\"], \"groups\", \"Bld Pairs.xlsx\"), index_col=0)\n",
    "\n",
    "pairs_long = (\n",
    "    pairs\n",
    "    .melt(ignore_index=False)\n",
    "    .reset_index()\n",
    "    .dropna()\n",
    "    .assign(letter_pair=lambda df: df[\"index\"] + df[\"variable\"])\n",
    "    .rename(columns={\"value\": \"image\"})\n",
    "    .pipe(lambda df: df[[\"letter_pair\", \"image\"]])\n",
    "    .pipe(lambda df: df[df.image != \".\"])\n",
    "    # .to_csv(os.path.join(cfg[\"docs_path\"], \"bld_pairs_long.csv\"))\n",
    ")"
   ]
  },
  {
   "cell_type": "markdown",
   "metadata": {},
   "source": [
    "### Split in groups"
   ]
  },
  {
   "cell_type": "code",
   "execution_count": 89,
   "metadata": {},
   "outputs": [],
   "source": [
    "learn_last = lambda x: (\"A\" in x) or (\"E\" in x) or (\"R\" in x)\n",
    "\n",
    "pair_groups = (\n",
    "    pairs_long\n",
    "    .assign(learn_last = lambda df: df[\"letter_pair\"].map(learn_last))\n",
    "    .assign(rank=lambda df: df[\"letter_pair\"].rank())\n",
    "    .assign(rank=lambda df: df.apply(lambda x: x[\"rank\"] * 100 if x.learn_last else x[\"rank\"], axis=1))\n",
    "    .assign(rank=lambda df: df[\"rank\"].rank())\n",
    "    .sort_values(\"rank\")\n",
    "    .assign(first_letter=lambda df: df[\"letter_pair\"].map(lambda x: x[0]))\n",
    ")\n",
    "\n",
    "main_groups = pair_groups.pipe(lambda df: df[~df.learn_last])\n",
    "last_groups = pair_groups.pipe(lambda df: df[df.learn_last])"
   ]
  },
  {
   "cell_type": "code",
   "execution_count": 90,
   "metadata": {},
   "outputs": [],
   "source": [
    "for l, group in main_groups.groupby(\"first_letter\"):\n",
    "    group[[\"letter_pair\", \"image\"]].to_csv(os.path.join(cfg[\"docs_path\"], \"groups\", f\"bld_pairs_{l}.csv\"), index=False)\n",
    "\n",
    "last_groups[[\"letter_pair\", \"image\"]].to_csv(os.path.join(cfg[\"docs_path\"], \"groups\", f\"bld_pairs_Z.csv\"), index=False)"
   ]
  }
 ],
 "metadata": {
  "kernelspec": {
   "display_name": "dev_cubing",
   "language": "python",
   "name": "python3"
  },
  "language_info": {
   "codemirror_mode": {
    "name": "ipython",
    "version": 3
   },
   "file_extension": ".py",
   "mimetype": "text/x-python",
   "name": "python",
   "nbconvert_exporter": "python",
   "pygments_lexer": "ipython3",
   "version": "3.9.18"
  }
 },
 "nbformat": 4,
 "nbformat_minor": 2
}
